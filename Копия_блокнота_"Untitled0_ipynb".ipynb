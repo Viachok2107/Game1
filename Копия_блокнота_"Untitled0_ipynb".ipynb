{
  "nbformat": 4,
  "nbformat_minor": 0,
  "metadata": {
    "colab": {
      "provenance": [],
      "authorship_tag": "ABX9TyPLUzS4kSx6EWQnQwyYRxuV",
      "include_colab_link": true
    },
    "kernelspec": {
      "name": "python3",
      "display_name": "Python 3"
    },
    "language_info": {
      "name": "python"
    }
  },
  "cells": [
    {
      "cell_type": "markdown",
      "metadata": {
        "id": "view-in-github",
        "colab_type": "text"
      },
      "source": [
        "<a href=\"https://colab.research.google.com/github/Viachok2107/Game1/blob/main/%D0%9A%D0%BE%D0%BF%D0%B8%D1%8F_%D0%B1%D0%BB%D0%BE%D0%BA%D0%BD%D0%BE%D1%82%D0%B0_%22Untitled0_ipynb%22.ipynb\" target=\"_parent\"><img src=\"https://colab.research.google.com/assets/colab-badge.svg\" alt=\"Open In Colab\"/></a>"
      ]
    },
    {
      "cell_type": "code",
      "source": [
        "print(4*1024*1024*8)"
      ],
      "metadata": {
        "colab": {
          "base_uri": "https://localhost:8080/"
        },
        "id": "SSvjbtZdynqN",
        "outputId": "b6400fb5-9a5f-4d00-b1fb-bd58d06c9b0e"
      },
      "execution_count": null,
      "outputs": [
        {
          "output_type": "stream",
          "name": "stdout",
          "text": [
            "33554432\n"
          ]
        }
      ]
    },
    {
      "cell_type": "markdown",
      "source": [
        "1,1 ответ:33554432бит"
      ],
      "metadata": {
        "id": "w8ZwzUKozfqw"
      }
    },
    {
      "cell_type": "code",
      "source": [
        "print(2*1024*1024*1024*8)"
      ],
      "metadata": {
        "colab": {
          "base_uri": "https://localhost:8080/"
        },
        "id": "RPU9wnKXzhLi",
        "outputId": "d57cbdf8-0103-4888-b097-834ff8366502"
      },
      "execution_count": null,
      "outputs": [
        {
          "output_type": "stream",
          "name": "stdout",
          "text": [
            "17179869184\n"
          ]
        }
      ]
    },
    {
      "cell_type": "markdown",
      "source": [
        "1.2,ответ:17179869184"
      ],
      "metadata": {
        "id": "dD9I5nWXzw3r"
      }
    },
    {
      "cell_type": "code",
      "source": [
        "print(6291456 /1024/1024)"
      ],
      "metadata": {
        "colab": {
          "base_uri": "https://localhost:8080/"
        },
        "id": "2E9tMMfmz1d3",
        "outputId": "87309703-f04f-43bf-d065-197da3a14a2d"
      },
      "execution_count": null,
      "outputs": [
        {
          "output_type": "stream",
          "name": "stdout",
          "text": [
            "6.0\n"
          ]
        }
      ]
    },
    {
      "cell_type": "markdown",
      "source": [
        "1.3,ответ:6"
      ],
      "metadata": {
        "id": "uj0i_I530FD3"
      }
    },
    {
      "cell_type": "code",
      "source": [
        "2.1,ОТВЕТ:5"
      ],
      "metadata": {
        "id": "R9pKhAag04W3"
      },
      "execution_count": null,
      "outputs": []
    },
    {
      "cell_type": "markdown",
      "source": [
        "2.2,ОТВЕТ:3"
      ],
      "metadata": {
        "id": "ZuOOdATs1Vy3"
      }
    },
    {
      "cell_type": "markdown",
      "source": [
        "2.3,ответ:5"
      ],
      "metadata": {
        "id": "jlb1XzBo1kgX"
      }
    },
    {
      "cell_type": "markdown",
      "source": [
        "3.1,ответ:1"
      ],
      "metadata": {
        "id": "30q1sHo-358S"
      }
    },
    {
      "cell_type": "markdown",
      "source": [
        "3.2,ответ:0.650022"
      ],
      "metadata": {
        "id": "GENtMo3G45Vp"
      }
    },
    {
      "cell_type": "markdown",
      "source": [
        "3.3 0.44 принимает  0.53 не принимает   0.97 общий\n",
        "    "
      ],
      "metadata": {
        "id": "XGStXmx_57Bv"
      }
    },
    {
      "cell_type": "markdown",
      "source": [
        "4.1  ответ: 77(16)"
      ],
      "metadata": {
        "id": "LgSV0uPR6Sd4"
      }
    },
    {
      "cell_type": "markdown",
      "source": [
        "4.2 ответ: u"
      ],
      "metadata": {
        "id": "sBu9uZ-56rQq"
      }
    },
    {
      "cell_type": "markdown",
      "source": [
        "4.3 ответ: 73747564656E74(16)"
      ],
      "metadata": {
        "id": "Hez10Bku7WSg"
      }
    },
    {
      "cell_type": "markdown",
      "source": [
        "5.1 ответ:110010010\n"
      ],
      "metadata": {
        "id": "60mG_R6E75lS"
      }
    },
    {
      "cell_type": "markdown",
      "source": [
        "5.2 ответ:  101000010"
      ],
      "metadata": {
        "id": "JISmbS9c8UXE"
      }
    },
    {
      "cell_type": "markdown",
      "source": [
        "5.3 ответ: содердит ошибку т.к сообщение содержит нечетное число единиц"
      ],
      "metadata": {
        "id": "4lyFD2L68mke"
      }
    },
    {
      "cell_type": "markdown",
      "source": [
        "6.1 ответ:|000| |000| |111| |111| |111| |000| |111| |111|"
      ],
      "metadata": {
        "id": "sEGgX26I82JI"
      }
    },
    {
      "cell_type": "markdown",
      "source": [
        "6.2 ответ:01011001"
      ],
      "metadata": {
        "id": "0GN8BRY1932Q"
      }
    },
    {
      "cell_type": "markdown",
      "source": [
        "6.3 Ответ:1"
      ],
      "metadata": {
        "id": "z0esdNBm-K94"
      }
    },
    {
      "cell_type": "markdown",
      "source": [
        "7.1 ответ:3"
      ],
      "metadata": {
        "id": "tC2AVKAj-2MW"
      }
    },
    {
      "cell_type": "markdown",
      "source": [
        "7.2 ОТВЕТ: все суждения верны"
      ],
      "metadata": {
        "id": "-QHa7j3I_EJP"
      }
    },
    {
      "cell_type": "markdown",
      "source": [
        "7.3 ответ:1"
      ],
      "metadata": {
        "id": "riNkpUKR_k6o"
      }
    },
    {
      "cell_type": "markdown",
      "source": [
        "Тест"
      ],
      "metadata": {
        "id": "lt1YxlYLBBIL"
      }
    },
    {
      "cell_type": "markdown",
      "source": [
        "1.ответ:1"
      ],
      "metadata": {
        "id": "NahRiEfkEKP-"
      }
    },
    {
      "cell_type": "markdown",
      "source": [
        "2.ответ:3"
      ],
      "metadata": {
        "id": "DDgkNbCEELau"
      }
    },
    {
      "cell_type": "markdown",
      "source": [
        "3.ответ:2"
      ],
      "metadata": {
        "id": "d9KkjqUPEL7C"
      }
    },
    {
      "cell_type": "markdown",
      "source": [
        "4.ответ:4"
      ],
      "metadata": {
        "id": "7znJYqACEMDm"
      }
    },
    {
      "cell_type": "markdown",
      "source": [
        "5.ответ:4"
      ],
      "metadata": {
        "id": "q1lMi22QEMJ9"
      }
    },
    {
      "cell_type": "markdown",
      "source": [
        "6.ответ:2"
      ],
      "metadata": {
        "id": "VesjdvXpEMQP"
      }
    },
    {
      "cell_type": "markdown",
      "source": [
        "7.ответ:3"
      ],
      "metadata": {
        "id": "MpbujQtTEMYu"
      }
    },
    {
      "cell_type": "markdown",
      "source": [
        "8.ответ:1"
      ],
      "metadata": {
        "id": "l20WsH8bEMeW"
      }
    },
    {
      "cell_type": "markdown",
      "source": [
        "9.ответ:3"
      ],
      "metadata": {
        "id": "SG-FnzYaEMm4"
      }
    },
    {
      "cell_type": "markdown",
      "source": [
        "10.ответ:24576"
      ],
      "metadata": {
        "id": "7P5iSK16EWZl"
      }
    },
    {
      "cell_type": "code",
      "source": [
        "#8.1\n",
        "print(\"Вячин Максим, эфбо-17-25\")"
      ],
      "metadata": {
        "colab": {
          "base_uri": "https://localhost:8080/"
        },
        "id": "PCLE623YFHh9",
        "outputId": "c89a4ca0-c34b-416e-c96d-76651d0ba929"
      },
      "execution_count": null,
      "outputs": [
        {
          "output_type": "stream",
          "name": "stdout",
          "text": [
            "Вячин Максим, эфбо-17-25\n"
          ]
        }
      ]
    },
    {
      "cell_type": "code",
      "source": [
        "#8.2\n",
        "x = input (\"введите число\")\n",
        "x=float(x)\n",
        "y = input (\"введите число\")\n",
        "y=float(y)\n",
        "print (x+y)"
      ],
      "metadata": {
        "colab": {
          "base_uri": "https://localhost:8080/"
        },
        "id": "v79ThjgcFi5M",
        "outputId": "ecd8f859-2b02-4a7e-abcd-5a479e77e1cc"
      },
      "execution_count": 1,
      "outputs": [
        {
          "output_type": "stream",
          "name": "stdout",
          "text": [
            "введите число0.4\n",
            "введите число0.5\n",
            "0.9\n"
          ]
        }
      ]
    },
    {
      "cell_type": "code",
      "source": [
        "#8.3\n",
        "x = input (\"введите число\")\n",
        "x = float (x)\n",
        "y=x**5-2*x**3+1\n",
        "print(y)"
      ],
      "metadata": {
        "colab": {
          "base_uri": "https://localhost:8080/"
        },
        "id": "5u3pu2wvGhlE",
        "outputId": "c857364d-44c2-4600-ad7c-e3675cc1872f"
      },
      "execution_count": null,
      "outputs": [
        {
          "output_type": "stream",
          "name": "stdout",
          "text": [
            "введите число2\n",
            "17.0\n"
          ]
        }
      ]
    },
    {
      "cell_type": "code",
      "source": [
        "#9.1\n",
        "strange= [ [],1]\n",
        "print(type(strange))"
      ],
      "metadata": {
        "colab": {
          "base_uri": "https://localhost:8080/"
        },
        "id": "hJEmLMq1a73w",
        "outputId": "e145ac9f-5490-4d83-93a2-3c2cc376c812"
      },
      "execution_count": 15,
      "outputs": [
        {
          "output_type": "stream",
          "name": "stdout",
          "text": [
            "<class 'list'>\n"
          ]
        }
      ]
    },
    {
      "cell_type": "code",
      "source": [
        "#9.2\n",
        "for x in range (2):\n",
        "  #x=float(x)\n",
        "  for y in range (2):\n",
        "    #y=float(y)\n",
        "    if  ((x or y) and (not x or y) and not(x and y))==True:\n",
        "      print(\"x y\")\n",
        "      print (x,y)"
      ],
      "metadata": {
        "colab": {
          "base_uri": "https://localhost:8080/"
        },
        "collapsed": true,
        "id": "TNeIUyvmHbyh",
        "outputId": "aa416c81-20f0-4ea0-b0ce-188c56f60294"
      },
      "execution_count": 28,
      "outputs": [
        {
          "output_type": "stream",
          "name": "stdout",
          "text": [
            "x y\n",
            "0 1\n"
          ]
        }
      ]
    },
    {
      "cell_type": "code",
      "source": [
        "9.3\n",
        "x = [input() for i in range(4)]\n",
        "print(*x[::-1])"
      ],
      "metadata": {
        "colab": {
          "base_uri": "https://localhost:8080/"
        },
        "id": "r8GMK4f9KdAs",
        "outputId": "25b80d30-a6da-479c-d893-7665eda6c55a"
      },
      "execution_count": null,
      "outputs": [
        {
          "output_type": "stream",
          "name": "stdout",
          "text": [
            "adada\n",
            "fdfds\n",
            "fdsfs\n",
            "gsdsg\n",
            "gsdsg fdsfs fdfds adada\n"
          ]
        }
      ]
    },
    {
      "cell_type": "code",
      "source": [
        "#10.1\n",
        "import math as m\n",
        "x = input (\"введите число\")\n",
        "x = float(x)\n",
        "i=m.log2(x)\n",
        "print (i)\n"
      ],
      "metadata": {
        "colab": {
          "base_uri": "https://localhost:8080/"
        },
        "id": "8OeYASj7NAXj",
        "outputId": "7843c1e7-ef35-4e7f-bd93-954a253c6793"
      },
      "execution_count": null,
      "outputs": [
        {
          "output_type": "stream",
          "name": "stdout",
          "text": [
            "введите число5\n",
            "2.321928094887362\n"
          ]
        }
      ]
    },
    {
      "cell_type": "code",
      "source": [
        "#10.2\n",
        "import math as m\n",
        "x=input(\"введите число\")\n",
        "x=float(x)\n",
        "y= input(\"введите число \")\n",
        "y=float(y)\n",
        "z=x+y\n",
        "p1=x/z\n",
        "p2=y/z\n",
        "I=(-p1*m.log(p1,2)-p2*m.log(p2,2))\n",
        "print(I)"
      ],
      "metadata": {
        "colab": {
          "base_uri": "https://localhost:8080/"
        },
        "id": "k3kpBE4jb3GR",
        "outputId": "047e3fd2-b521-4635-cefd-ebc3240830bb"
      },
      "execution_count": 16,
      "outputs": [
        {
          "output_type": "stream",
          "name": "stdout",
          "text": [
            "введите число2\n",
            "введите число 6\n",
            "0.8112781244591328\n"
          ]
        }
      ]
    },
    {
      "cell_type": "code",
      "source": [
        "#10.3\n",
        "import math as m\n",
        "x = float(input(\"введите число\"))\n",
        "i = ((m.tan(m.cos(x)*m.sin(2*x))/x*m.e**x)**(m.log(x,7)))\n",
        "print (i)"
      ],
      "metadata": {
        "colab": {
          "base_uri": "https://localhost:8080/"
        },
        "id": "yhv_H3-TQCEo",
        "outputId": "70dad595-9f87-497f-9f18-c80a0dc59d7c"
      },
      "execution_count": null,
      "outputs": [
        {
          "output_type": "stream",
          "name": "stdout",
          "text": [
            "введите число3\n",
            "1.4370551949505188\n"
          ]
        }
      ]
    },
    {
      "cell_type": "markdown",
      "source": [
        "# 1. В коробке 32 карандаша, все карандаши разного цвета. Наугад вытащили красный. Какое количество информации при этом было получено?\n",
        "N=32\n",
        "---\n",
        "32=2*i\n",
        "---\n",
        "i=5 бит\n",
        "\n",
        "\n"
      ],
      "metadata": {
        "id": "o3FUu1UeFPGW"
      }
    },
    {
      "cell_type": "markdown",
      "source": [
        "# 2. В коробке 50 шаров, из них 40 белых и 10 чёрных. Определить количество информации в сообщении о вытаскивании наугад белого шара и чёрного шара.\n",
        "p1 = 40/50 = 0,8\n",
        "---\n",
        "p2 = 10/50 = 0,2\n",
        "---\n",
        "\n",
        "```\n",
        "import math as m\n",
        "print(m.log(1/0.8,2))\n",
        "print(m.log(1/0.2,2))\n",
        "---\n",
        "0.3219280948873623 ≈ 0.32\n",
        "2.3219280948873623 ≈ 2.32\n",
        "```\n",
        "i1 = log2(1/0,8)=log2(5)≈0,32бит\n",
        "---\n",
        "i2 = log2(1/0,2)=log2(1,25)≈2,32бит\n",
        "\n",
        "\n",
        "---\n",
        "Ответ:0,32бит, 2,32бит."
      ],
      "metadata": {
        "id": "JdwSISCkFYLl"
      }
    },
    {
      "cell_type": "markdown",
      "source": [
        "# 3.В озере живут караси и окуни. Подсчитано, что карасей 1500, а окуней - 500. Сколько информации содержится в сообщениях о том, что рыбак поймал карася, окуня, поймал рыбу?\n",
        "1500+500=2000\n",
        "p1=1500/2000=0,75\n",
        "---\n",
        "p2=500/2000 = 0,25\n",
        "---\n",
        "i1=log2(1/0,75)=0.4150374992788438 бит ≈ 0.42 бит\n",
        "\n",
        "```\n",
        "import math as m\n",
        "print(m.log(1/0.75,2))\n",
        "0.4150374992788438\n",
        "```\n",
        "\n",
        "\n",
        "---\n",
        "i2=log2(1/0,25)=2бит\n",
        "---\n",
        "I=-p1*log(p1) - p2*log2(p2)\n",
        "---\n",
        "I=0,75*log2(0,75)-0,25*log2(0,25)\n",
        "\n",
        "```\n",
        "import math as m\n",
        "I=(0.75*m.log(0.75,2)-0.25*m.log(0.25,2))\n",
        "print(I)\n",
        "0.8112781244591328 бит ≈ 0,81 бит\n",
        "```\n",
        "Ответ: 0.42 бит, 2 бит, 0.81 бит."
      ],
      "metadata": {
        "id": "Wu3i7wJAK7ij"
      }
    },
    {
      "cell_type": "markdown",
      "source": [
        "# 4. Какое количество информации несет в себе сообщение о том, что нужная вам программа находится на одной из восьми дискет?\n",
        "N=8\n",
        "---\n",
        "8=2*i\n",
        "---\n",
        "i=3\n",
        "---\n",
        "Ответ: 3 бит\n"
      ],
      "metadata": {
        "id": "DDgiso5ZU7yv"
      }
    },
    {
      "cell_type": "markdown",
      "source": [
        "# 5. Какова мощность алфавита, с помощью которого записано сообщение, содержащее 2048 символов, если его объем составляет 1/512 часть одного мегабайта?\n",
        "1/512 мб = 2 кб\n",
        "---\n",
        "2*1024=2024 байт=>\n",
        "---\n",
        "=>i=1байт=8бит\n",
        "---\n",
        "2**8=256\n",
        "---\n",
        "Ответ: 256"
      ],
      "metadata": {
        "id": "8yT5YxP-WBg6"
      }
    },
    {
      "cell_type": "markdown",
      "source": [
        "# 6. Книга, набранная с помощью компьютера, содержит 150 страниц; на каждой странице - 40 строк, в каждой строке - 60 символов. Каков объем информации в книге?\n",
        "\n",
        "128 < 150 > 256\n",
        "---\n",
        "i=1байт\n",
        "---\n",
        "40*60=2400\n",
        "---\n",
        "2400*150=360000\n",
        "---\n",
        "Ответ:360000 байт\n"
      ],
      "metadata": {
        "id": "CkQhzUXNYiwb"
      }
    },
    {
      "cell_type": "markdown",
      "source": [
        "# 7. Для передачи секретного сообщения используется код, состоящий из десяти цифр. При этом все цифры кодируются одним и тем же (минимально возможным) количеством бит. Определите информационный объем сообщения длиной в 150 символов.\n",
        "8 < 10 > 16\n",
        "---\n",
        "i=4бит\n",
        "---\n",
        "150*4=600\n",
        "---\n",
        "Ответ:600 БИТ"
      ],
      "metadata": {
        "id": "UQDB7bLBZRWv"
      }
    },
    {
      "cell_type": "markdown",
      "source": [
        "# 8. В кодировке Unicode на каждый символ отводится два байта. Определите информационный объем слова из двадцати четырех символов в этой кодировке.\n",
        "2*24=48 БАЙТ\n",
        "---\n",
        "Ответ:48 Байт"
      ],
      "metadata": {
        "id": "d-QLyGPGZrrs"
      }
    },
    {
      "cell_type": "markdown",
      "source": [
        "# 9. В рулетке общее количество лунок равно 128. Какое количество информации мы получаем в зрительные сообщения об остановке шарика в одной из лунок?\n",
        "128=2**7\n",
        "---\n",
        "i=7бит\n",
        "---\n",
        "Ответ:7бит"
      ],
      "metadata": {
        "id": "vMPYN34JaD9N"
      }
    }
  ]
}